{
 "cells": [
  {
   "cell_type": "code",
   "id": "initial_id",
   "metadata": {
    "collapsed": true,
    "ExecuteTime": {
     "end_time": "2024-11-28T09:53:36.851740Z",
     "start_time": "2024-11-28T09:53:36.838005Z"
    }
   },
   "source": [
    "import numpy as np\n",
    "import pandas as pd\n",
    "from tensorflow.keras.models import Sequential\n",
    "from tensorflow.keras.layers import Dense\n",
    "from keras.utils import to_categorical\n",
    "from sklearn.preprocessing import LabelEncoder\n",
    "from tensorflow.keras.optimizers import Adam\n",
    "from tensorflow.keras.callbacks import EarlyStopping"
   ],
   "outputs": [],
   "execution_count": 20
  },
  {
   "metadata": {
    "ExecuteTime": {
     "end_time": "2024-11-28T09:53:38.283362Z",
     "start_time": "2024-11-28T09:53:36.854714Z"
    }
   },
   "cell_type": "code",
   "source": [
    "# This script downloads the dataset from Kaggle and unzips it\n",
    "import os\n",
    "import zipfile\n",
    "from kaggle.api.kaggle_api_extended import KaggleApi\n",
    "\n",
    "# Initialize Kaggle API\n",
    "api = KaggleApi()\n",
    "api.authenticate()\n",
    "\n",
    "# Download the dataset\n",
    "dataset = 'teejmahal20/airline-passenger-satisfaction'\n",
    "api.dataset_download_files(dataset, path='.', unzip=True)\n",
    "\n"
   ],
   "id": "de752c85141f0beb",
   "outputs": [
    {
     "name": "stdout",
     "output_type": "stream",
     "text": [
      "Dataset URL: https://www.kaggle.com/datasets/teejmahal20/airline-passenger-satisfaction\n"
     ]
    }
   ],
   "execution_count": 21
  },
  {
   "metadata": {
    "ExecuteTime": {
     "end_time": "2024-11-28T10:55:01.136353Z",
     "start_time": "2024-11-28T10:55:00.821352Z"
    }
   },
   "cell_type": "code",
   "source": [
    "# load training set and test set\n",
    "train = pd.read_csv('train.csv', usecols=['Gender', 'Customer Type', 'Age', 'Type of Travel', 'Class', 'Flight Distance', 'Departure Delay in Minutes', 'Arrival Delay in Minutes', 'satisfaction'])\n",
    "\n",
    "test = pd.read_csv('test.csv', usecols=['Gender', 'Customer Type', 'Age', 'Type of Travel', 'Class', 'Flight Distance', \n",
    " 'Departure Delay in Minutes', 'Arrival Delay in Minutes', 'satisfaction'])\n"
   ],
   "id": "14e851df75896287",
   "outputs": [],
   "execution_count": 41
  },
  {
   "metadata": {
    "ExecuteTime": {
     "end_time": "2024-11-28T10:56:14.456235Z",
     "start_time": "2024-11-28T10:56:14.380196Z"
    }
   },
   "cell_type": "code",
   "source": [
    "from tensorflow.keras.utils import to_categorical\n",
    "# Preprocess the data\n",
    "train.dropna(inplace=True)\n",
    "test.dropna(inplace=True)\n",
    "\n",
    "le = LabelEncoder()\n",
    "for column in train.select_dtypes(include=[\"object\"]).columns:\n",
    "    if column != 'satisfaction':\n",
    "        train[column] = le.fit_transform(train[column])\n",
    "\n",
    "\n",
    "train.head()\n",
    "\n",
    "for column in test.select_dtypes(include=[\"object\"]).columns:\n",
    "    if column != 'satisfaction':\n",
    "        test[column] = le.fit_transform(test[column])\n",
    "\n",
    "\n",
    "le2 = LabelEncoder()\n",
    "train_response = train['satisfaction']\n",
    "train_response = le2.fit_transform(train_response)\n",
    "train_response = to_categorical(train_response)\n",
    "train.drop(columns=['satisfaction'], inplace=True,  axis=1)\n",
    "\n",
    "test_response = test['satisfaction']\n",
    "test_response = le2.fit_transform(test_response)\n",
    "test_response = to_categorical(test_response)\n",
    "\n",
    "test.drop(columns=['satisfaction'], inplace=True,  axis=1)\n"
   ],
   "id": "f470786f282d4adf",
   "outputs": [],
   "execution_count": 43
  },
  {
   "metadata": {
    "ExecuteTime": {
     "end_time": "2024-11-28T11:30:48.366351Z",
     "start_time": "2024-11-28T11:27:52.605921Z"
    }
   },
   "cell_type": "code",
   "source": [
    "\n",
    "# Set the learning rate\n",
    "learning_rate = 0.001\n",
    "optimizer = Adam(learning_rate=learning_rate)\n",
    "\n",
    "model = Sequential()\n",
    "model.add(Dense(32, activation='relu'))\n",
    "model.add(Dense(32, activation='relu'))\n",
    "model.add(Dense(32, activation='relu'))\n",
    "model.add(Dense(2, activation='softmax'))\n",
    "model.compile(loss='categorical_crossentropy', optimizer='adam', metrics=['accuracy'])\n",
    "\n",
    "\n",
    "# Define early stopping callback\n",
    "early_stopping = EarlyStopping(monitor='loss', patience=5, restore_best_weights=True)\n",
    "\n",
    "\n",
    "model.fit(train, train_response, epochs=30, callbacks=[early_stopping])\n",
    "\n",
    "results = model.evaluate(test, test_response)\n",
    "print(\"Test accuracy: \", results[1])"
   ],
   "id": "877e5a8e12255929",
   "outputs": [
    {
     "name": "stdout",
     "output_type": "stream",
     "text": [
      "Epoch 1/30\n",
      "\u001B[1m3238/3238\u001B[0m \u001B[32m━━━━━━━━━━━━━━━━━━━━\u001B[0m\u001B[37m\u001B[0m \u001B[1m7s\u001B[0m 2ms/step - accuracy: 0.6222 - loss: 2.7803\n",
      "Epoch 2/30\n",
      "\u001B[1m3238/3238\u001B[0m \u001B[32m━━━━━━━━━━━━━━━━━━━━\u001B[0m\u001B[37m\u001B[0m \u001B[1m6s\u001B[0m 2ms/step - accuracy: 0.7187 - loss: 0.7046\n",
      "Epoch 3/30\n",
      "\u001B[1m3238/3238\u001B[0m \u001B[32m━━━━━━━━━━━━━━━━━━━━\u001B[0m\u001B[37m\u001B[0m \u001B[1m6s\u001B[0m 2ms/step - accuracy: 0.7382 - loss: 0.6160\n",
      "Epoch 4/30\n",
      "\u001B[1m3238/3238\u001B[0m \u001B[32m━━━━━━━━━━━━━━━━━━━━\u001B[0m\u001B[37m\u001B[0m \u001B[1m6s\u001B[0m 2ms/step - accuracy: 0.7533 - loss: 0.5538\n",
      "Epoch 5/30\n",
      "\u001B[1m3238/3238\u001B[0m \u001B[32m━━━━━━━━━━━━━━━━━━━━\u001B[0m\u001B[37m\u001B[0m \u001B[1m6s\u001B[0m 2ms/step - accuracy: 0.7669 - loss: 0.5136\n",
      "Epoch 6/30\n",
      "\u001B[1m3238/3238\u001B[0m \u001B[32m━━━━━━━━━━━━━━━━━━━━\u001B[0m\u001B[37m\u001B[0m \u001B[1m6s\u001B[0m 2ms/step - accuracy: 0.7700 - loss: 0.5078\n",
      "Epoch 7/30\n",
      "\u001B[1m3238/3238\u001B[0m \u001B[32m━━━━━━━━━━━━━━━━━━━━\u001B[0m\u001B[37m\u001B[0m \u001B[1m6s\u001B[0m 2ms/step - accuracy: 0.7775 - loss: 0.4981\n",
      "Epoch 8/30\n",
      "\u001B[1m3238/3238\u001B[0m \u001B[32m━━━━━━━━━━━━━━━━━━━━\u001B[0m\u001B[37m\u001B[0m \u001B[1m6s\u001B[0m 2ms/step - accuracy: 0.7754 - loss: 0.4999\n",
      "Epoch 9/30\n",
      "\u001B[1m3238/3238\u001B[0m \u001B[32m━━━━━━━━━━━━━━━━━━━━\u001B[0m\u001B[37m\u001B[0m \u001B[1m6s\u001B[0m 2ms/step - accuracy: 0.7782 - loss: 0.4946\n",
      "Epoch 10/30\n",
      "\u001B[1m3238/3238\u001B[0m \u001B[32m━━━━━━━━━━━━━━━━━━━━\u001B[0m\u001B[37m\u001B[0m \u001B[1m6s\u001B[0m 2ms/step - accuracy: 0.7816 - loss: 0.4889\n",
      "Epoch 11/30\n",
      "\u001B[1m3238/3238\u001B[0m \u001B[32m━━━━━━━━━━━━━━━━━━━━\u001B[0m\u001B[37m\u001B[0m \u001B[1m5s\u001B[0m 2ms/step - accuracy: 0.7811 - loss: 0.4876\n",
      "Epoch 12/30\n",
      "\u001B[1m3238/3238\u001B[0m \u001B[32m━━━━━━━━━━━━━━━━━━━━\u001B[0m\u001B[37m\u001B[0m \u001B[1m6s\u001B[0m 2ms/step - accuracy: 0.7827 - loss: 0.4872\n",
      "Epoch 13/30\n",
      "\u001B[1m3238/3238\u001B[0m \u001B[32m━━━━━━━━━━━━━━━━━━━━\u001B[0m\u001B[37m\u001B[0m \u001B[1m6s\u001B[0m 2ms/step - accuracy: 0.7836 - loss: 0.4843\n",
      "Epoch 14/30\n",
      "\u001B[1m3238/3238\u001B[0m \u001B[32m━━━━━━━━━━━━━━━━━━━━\u001B[0m\u001B[37m\u001B[0m \u001B[1m6s\u001B[0m 2ms/step - accuracy: 0.7801 - loss: 0.4879\n",
      "Epoch 15/30\n",
      "\u001B[1m3238/3238\u001B[0m \u001B[32m━━━━━━━━━━━━━━━━━━━━\u001B[0m\u001B[37m\u001B[0m \u001B[1m6s\u001B[0m 2ms/step - accuracy: 0.7852 - loss: 0.4824\n",
      "Epoch 16/30\n",
      "\u001B[1m3238/3238\u001B[0m \u001B[32m━━━━━━━━━━━━━━━━━━━━\u001B[0m\u001B[37m\u001B[0m \u001B[1m6s\u001B[0m 2ms/step - accuracy: 0.7850 - loss: 0.4843\n",
      "Epoch 17/30\n",
      "\u001B[1m3238/3238\u001B[0m \u001B[32m━━━━━━━━━━━━━━━━━━━━\u001B[0m\u001B[37m\u001B[0m \u001B[1m5s\u001B[0m 2ms/step - accuracy: 0.7839 - loss: 0.4834\n",
      "Epoch 18/30\n",
      "\u001B[1m3238/3238\u001B[0m \u001B[32m━━━━━━━━━━━━━━━━━━━━\u001B[0m\u001B[37m\u001B[0m \u001B[1m6s\u001B[0m 2ms/step - accuracy: 0.7838 - loss: 0.4832\n",
      "Epoch 19/30\n",
      "\u001B[1m3238/3238\u001B[0m \u001B[32m━━━━━━━━━━━━━━━━━━━━\u001B[0m\u001B[37m\u001B[0m \u001B[1m6s\u001B[0m 2ms/step - accuracy: 0.7870 - loss: 0.4803\n",
      "Epoch 20/30\n",
      "\u001B[1m3238/3238\u001B[0m \u001B[32m━━━━━━━━━━━━━━━━━━━━\u001B[0m\u001B[37m\u001B[0m \u001B[1m5s\u001B[0m 2ms/step - accuracy: 0.7861 - loss: 0.4813\n",
      "Epoch 21/30\n",
      "\u001B[1m3238/3238\u001B[0m \u001B[32m━━━━━━━━━━━━━━━━━━━━\u001B[0m\u001B[37m\u001B[0m \u001B[1m6s\u001B[0m 2ms/step - accuracy: 0.7876 - loss: 0.4787\n",
      "Epoch 22/30\n",
      "\u001B[1m3238/3238\u001B[0m \u001B[32m━━━━━━━━━━━━━━━━━━━━\u001B[0m\u001B[37m\u001B[0m \u001B[1m6s\u001B[0m 2ms/step - accuracy: 0.7846 - loss: 0.4813\n",
      "Epoch 23/30\n",
      "\u001B[1m3238/3238\u001B[0m \u001B[32m━━━━━━━━━━━━━━━━━━━━\u001B[0m\u001B[37m\u001B[0m \u001B[1m5s\u001B[0m 2ms/step - accuracy: 0.7858 - loss: 0.4795\n",
      "Epoch 24/30\n",
      "\u001B[1m3238/3238\u001B[0m \u001B[32m━━━━━━━━━━━━━━━━━━━━\u001B[0m\u001B[37m\u001B[0m \u001B[1m6s\u001B[0m 2ms/step - accuracy: 0.7862 - loss: 0.4797\n",
      "Epoch 25/30\n",
      "\u001B[1m3238/3238\u001B[0m \u001B[32m━━━━━━━━━━━━━━━━━━━━\u001B[0m\u001B[37m\u001B[0m \u001B[1m6s\u001B[0m 2ms/step - accuracy: 0.7839 - loss: 0.4825\n",
      "Epoch 26/30\n",
      "\u001B[1m3238/3238\u001B[0m \u001B[32m━━━━━━━━━━━━━━━━━━━━\u001B[0m\u001B[37m\u001B[0m \u001B[1m6s\u001B[0m 2ms/step - accuracy: 0.7872 - loss: 0.4777\n",
      "Epoch 27/30\n",
      "\u001B[1m3238/3238\u001B[0m \u001B[32m━━━━━━━━━━━━━━━━━━━━\u001B[0m\u001B[37m\u001B[0m \u001B[1m6s\u001B[0m 2ms/step - accuracy: 0.7871 - loss: 0.4787\n",
      "Epoch 28/30\n",
      "\u001B[1m3238/3238\u001B[0m \u001B[32m━━━━━━━━━━━━━━━━━━━━\u001B[0m\u001B[37m\u001B[0m \u001B[1m6s\u001B[0m 2ms/step - accuracy: 0.7848 - loss: 0.4798\n",
      "Epoch 29/30\n",
      "\u001B[1m3238/3238\u001B[0m \u001B[32m━━━━━━━━━━━━━━━━━━━━\u001B[0m\u001B[37m\u001B[0m \u001B[1m6s\u001B[0m 2ms/step - accuracy: 0.7881 - loss: 0.4771\n",
      "Epoch 30/30\n",
      "\u001B[1m3238/3238\u001B[0m \u001B[32m━━━━━━━━━━━━━━━━━━━━\u001B[0m\u001B[37m\u001B[0m \u001B[1m5s\u001B[0m 2ms/step - accuracy: 0.7876 - loss: 0.4771\n",
      "\u001B[1m810/810\u001B[0m \u001B[32m━━━━━━━━━━━━━━━━━━━━\u001B[0m\u001B[37m\u001B[0m \u001B[1m1s\u001B[0m 2ms/step - accuracy: 0.7884 - loss: 0.4762\n",
      "Test accuracy:  0.7873556613922119\n"
     ]
    }
   ],
   "execution_count": 48
  },
  {
   "metadata": {
    "ExecuteTime": {
     "end_time": "2024-11-28T09:53:40.553109Z",
     "start_time": "2024-11-28T09:53:40.552111Z"
    }
   },
   "cell_type": "code",
   "source": "\n",
   "id": "4e16ab36e83d4f70",
   "outputs": [],
   "execution_count": null
  },
  {
   "metadata": {},
   "cell_type": "code",
   "source": "",
   "id": "f19bcc87ded38dd3",
   "outputs": [],
   "execution_count": null
  }
 ],
 "metadata": {
  "kernelspec": {
   "display_name": "Python 3",
   "language": "python",
   "name": "python3"
  },
  "language_info": {
   "codemirror_mode": {
    "name": "ipython",
    "version": 2
   },
   "file_extension": ".py",
   "mimetype": "text/x-python",
   "name": "python",
   "nbconvert_exporter": "python",
   "pygments_lexer": "ipython2",
   "version": "2.7.6"
  }
 },
 "nbformat": 4,
 "nbformat_minor": 5
}
