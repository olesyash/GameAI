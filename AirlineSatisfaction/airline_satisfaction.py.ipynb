{
 "cells": [
  {
   "cell_type": "code",
   "id": "initial_id",
   "metadata": {
    "collapsed": true,
    "ExecuteTime": {
     "end_time": "2024-12-02T07:47:10.572667Z",
     "start_time": "2024-12-02T07:47:02.342229Z"
    }
   },
   "source": [
    "import numpy as np\n",
    "import pandas as pd\n",
    "from tensorflow.keras.models import Sequential\n",
    "from tensorflow.keras.layers import Dense\n",
    "from keras.utils import to_categorical\n",
    "from sklearn.preprocessing import LabelEncoder\n",
    "from tensorflow.keras.optimizers import Adam\n",
    "from tensorflow.keras.callbacks import EarlyStopping"
   ],
   "outputs": [],
   "execution_count": 2
  },
  {
   "metadata": {
    "ExecuteTime": {
     "end_time": "2024-12-02T07:47:12.613679Z",
     "start_time": "2024-12-02T07:47:10.574600Z"
    }
   },
   "cell_type": "code",
   "source": [
    "# This script downloads the dataset from Kaggle and unzips it\n",
    "import os\n",
    "import zipfile\n",
    "from kaggle.api.kaggle_api_extended import KaggleApi\n",
    "\n",
    "# Initialize Kaggle API\n",
    "api = KaggleApi()\n",
    "api.authenticate()\n",
    "\n",
    "# Download the dataset\n",
    "dataset = 'teejmahal20/airline-passenger-satisfaction'\n",
    "api.dataset_download_files(dataset, path='.', unzip=True)\n",
    "\n"
   ],
   "id": "de752c85141f0beb",
   "outputs": [
    {
     "name": "stdout",
     "output_type": "stream",
     "text": [
      "Dataset URL: https://www.kaggle.com/datasets/teejmahal20/airline-passenger-satisfaction\n"
     ]
    }
   ],
   "execution_count": 3
  },
  {
   "metadata": {
    "ExecuteTime": {
     "end_time": "2024-12-02T07:47:12.900719Z",
     "start_time": "2024-12-02T07:47:12.616406Z"
    }
   },
   "cell_type": "code",
   "source": [
    "# load training set and test set\n",
    "train = pd.read_csv('train.csv', usecols=['Gender', 'Customer Type', 'Age', 'Type of Travel', 'Class', 'Flight Distance', 'Departure Delay in Minutes', 'Arrival Delay in Minutes', 'satisfaction'])\n",
    "\n",
    "test = pd.read_csv('test.csv', usecols=['Gender', 'Customer Type', 'Age', 'Type of Travel', 'Class', 'Flight Distance', \n",
    " 'Departure Delay in Minutes', 'Arrival Delay in Minutes', 'satisfaction'])\n"
   ],
   "id": "14e851df75896287",
   "outputs": [],
   "execution_count": 4
  },
  {
   "metadata": {
    "ExecuteTime": {
     "end_time": "2024-12-02T07:47:13.075856Z",
     "start_time": "2024-12-02T07:47:12.904447Z"
    }
   },
   "cell_type": "code",
   "source": [
    "from tensorflow.keras.utils import to_categorical\n",
    "# Preprocess the data\n",
    "train.dropna(inplace=True)\n",
    "test.dropna(inplace=True)\n",
    "\n",
    "le = LabelEncoder()\n",
    "for column in train.select_dtypes(include=[\"object\"]).columns:\n",
    "    if column != 'satisfaction':\n",
    "        train[column] = le.fit_transform(train[column])\n",
    "\n",
    "\n",
    "train.head()\n",
    "\n",
    "for column in test.select_dtypes(include=[\"object\"]).columns:\n",
    "    if column != 'satisfaction':\n",
    "        test[column] = le.fit_transform(test[column])\n",
    "\n",
    "\n",
    "le2 = LabelEncoder()\n",
    "train_response = train['satisfaction']\n",
    "train_response = le2.fit_transform(train_response)\n",
    "train_response = to_categorical(train_response)\n",
    "train.drop(columns=['satisfaction'], inplace=True,  axis=1)\n",
    "\n",
    "test_response = test['satisfaction']\n",
    "test_response = le2.fit_transform(test_response)\n",
    "test_response = to_categorical(test_response)\n",
    "\n",
    "test.drop(columns=['satisfaction'], inplace=True,  axis=1)\n"
   ],
   "id": "f470786f282d4adf",
   "outputs": [],
   "execution_count": 5
  },
  {
   "metadata": {
    "ExecuteTime": {
     "end_time": "2024-12-02T07:50:28.298897Z",
     "start_time": "2024-12-02T07:47:13.078573Z"
    }
   },
   "cell_type": "code",
   "source": [
    "\n",
    "# Set the learning rate\n",
    "learning_rate = 0.001\n",
    "optimizer = Adam(learning_rate=learning_rate)\n",
    "\n",
    "model = Sequential()\n",
    "model.add(Dense(32, activation='relu'))\n",
    "model.add(Dense(32, activation='relu'))\n",
    "model.add(Dense(32, activation='relu'))\n",
    "model.add(Dense(2, activation='softmax'))\n",
    "model.compile(loss='categorical_crossentropy', optimizer='adam', metrics=['accuracy'])\n",
    "\n",
    "\n",
    "# Define early stopping callback\n",
    "early_stopping = EarlyStopping(monitor='loss', patience=5, restore_best_weights=True)\n",
    "\n",
    "\n",
    "history = model.fit(train, train_response, epochs=30, callbacks=[early_stopping])\n",
    "\n",
    "results = model.evaluate(test, test_response)\n",
    "print(\"Test accuracy: \", results[1])"
   ],
   "id": "877e5a8e12255929",
   "outputs": [
    {
     "name": "stdout",
     "output_type": "stream",
     "text": [
      "Epoch 1/30\n",
      "\u001B[1m3238/3238\u001B[0m \u001B[32m━━━━━━━━━━━━━━━━━━━━\u001B[0m\u001B[37m\u001B[0m \u001B[1m7s\u001B[0m 2ms/step - accuracy: 0.6326 - loss: 1.4938\n",
      "Epoch 2/30\n",
      "\u001B[1m3238/3238\u001B[0m \u001B[32m━━━━━━━━━━━━━━━━━━━━\u001B[0m\u001B[37m\u001B[0m \u001B[1m6s\u001B[0m 2ms/step - accuracy: 0.7288 - loss: 0.6419\n",
      "Epoch 3/30\n",
      "\u001B[1m3238/3238\u001B[0m \u001B[32m━━━━━━━━━━━━━━━━━━━━\u001B[0m\u001B[37m\u001B[0m \u001B[1m6s\u001B[0m 2ms/step - accuracy: 0.7498 - loss: 0.5556\n",
      "Epoch 4/30\n",
      "\u001B[1m3238/3238\u001B[0m \u001B[32m━━━━━━━━━━━━━━━━━━━━\u001B[0m\u001B[37m\u001B[0m \u001B[1m6s\u001B[0m 2ms/step - accuracy: 0.7598 - loss: 0.5298\n",
      "Epoch 5/30\n",
      "\u001B[1m3238/3238\u001B[0m \u001B[32m━━━━━━━━━━━━━━━━━━━━\u001B[0m\u001B[37m\u001B[0m \u001B[1m6s\u001B[0m 2ms/step - accuracy: 0.7632 - loss: 0.5161\n",
      "Epoch 6/30\n",
      "\u001B[1m3238/3238\u001B[0m \u001B[32m━━━━━━━━━━━━━━━━━━━━\u001B[0m\u001B[37m\u001B[0m \u001B[1m6s\u001B[0m 2ms/step - accuracy: 0.7703 - loss: 0.5066\n",
      "Epoch 7/30\n",
      "\u001B[1m3238/3238\u001B[0m \u001B[32m━━━━━━━━━━━━━━━━━━━━\u001B[0m\u001B[37m\u001B[0m \u001B[1m6s\u001B[0m 2ms/step - accuracy: 0.7716 - loss: 0.5011\n",
      "Epoch 8/30\n",
      "\u001B[1m3238/3238\u001B[0m \u001B[32m━━━━━━━━━━━━━━━━━━━━\u001B[0m\u001B[37m\u001B[0m \u001B[1m6s\u001B[0m 2ms/step - accuracy: 0.7786 - loss: 0.4920\n",
      "Epoch 9/30\n",
      "\u001B[1m3238/3238\u001B[0m \u001B[32m━━━━━━━━━━━━━━━━━━━━\u001B[0m\u001B[37m\u001B[0m \u001B[1m6s\u001B[0m 2ms/step - accuracy: 0.7749 - loss: 0.4947\n",
      "Epoch 10/30\n",
      "\u001B[1m3238/3238\u001B[0m \u001B[32m━━━━━━━━━━━━━━━━━━━━\u001B[0m\u001B[37m\u001B[0m \u001B[1m6s\u001B[0m 2ms/step - accuracy: 0.7809 - loss: 0.4904\n",
      "Epoch 11/30\n",
      "\u001B[1m3238/3238\u001B[0m \u001B[32m━━━━━━━━━━━━━━━━━━━━\u001B[0m\u001B[37m\u001B[0m \u001B[1m6s\u001B[0m 2ms/step - accuracy: 0.7774 - loss: 0.4913\n",
      "Epoch 12/30\n",
      "\u001B[1m3238/3238\u001B[0m \u001B[32m━━━━━━━━━━━━━━━━━━━━\u001B[0m\u001B[37m\u001B[0m \u001B[1m6s\u001B[0m 2ms/step - accuracy: 0.7800 - loss: 0.4887\n",
      "Epoch 13/30\n",
      "\u001B[1m3238/3238\u001B[0m \u001B[32m━━━━━━━━━━━━━━━━━━━━\u001B[0m\u001B[37m\u001B[0m \u001B[1m6s\u001B[0m 2ms/step - accuracy: 0.7831 - loss: 0.4857\n",
      "Epoch 14/30\n",
      "\u001B[1m3238/3238\u001B[0m \u001B[32m━━━━━━━━━━━━━━━━━━━━\u001B[0m\u001B[37m\u001B[0m \u001B[1m6s\u001B[0m 2ms/step - accuracy: 0.7813 - loss: 0.4858\n",
      "Epoch 15/30\n",
      "\u001B[1m3238/3238\u001B[0m \u001B[32m━━━━━━━━━━━━━━━━━━━━\u001B[0m\u001B[37m\u001B[0m \u001B[1m6s\u001B[0m 2ms/step - accuracy: 0.7825 - loss: 0.4824\n",
      "Epoch 16/30\n",
      "\u001B[1m3238/3238\u001B[0m \u001B[32m━━━━━━━━━━━━━━━━━━━━\u001B[0m\u001B[37m\u001B[0m \u001B[1m6s\u001B[0m 2ms/step - accuracy: 0.7836 - loss: 0.4862\n",
      "Epoch 17/30\n",
      "\u001B[1m3238/3238\u001B[0m \u001B[32m━━━━━━━━━━━━━━━━━━━━\u001B[0m\u001B[37m\u001B[0m \u001B[1m6s\u001B[0m 2ms/step - accuracy: 0.7868 - loss: 0.4800\n",
      "Epoch 18/30\n",
      "\u001B[1m3238/3238\u001B[0m \u001B[32m━━━━━━━━━━━━━━━━━━━━\u001B[0m\u001B[37m\u001B[0m \u001B[1m6s\u001B[0m 2ms/step - accuracy: 0.7810 - loss: 0.4853\n",
      "Epoch 19/30\n",
      "\u001B[1m3238/3238\u001B[0m \u001B[32m━━━━━━━━━━━━━━━━━━━━\u001B[0m\u001B[37m\u001B[0m \u001B[1m6s\u001B[0m 2ms/step - accuracy: 0.7859 - loss: 0.4802\n",
      "Epoch 20/30\n",
      "\u001B[1m3238/3238\u001B[0m \u001B[32m━━━━━━━━━━━━━━━━━━━━\u001B[0m\u001B[37m\u001B[0m \u001B[1m6s\u001B[0m 2ms/step - accuracy: 0.7823 - loss: 0.4847\n",
      "Epoch 21/30\n",
      "\u001B[1m3238/3238\u001B[0m \u001B[32m━━━━━━━━━━━━━━━━━━━━\u001B[0m\u001B[37m\u001B[0m \u001B[1m6s\u001B[0m 2ms/step - accuracy: 0.7829 - loss: 0.4834\n",
      "Epoch 22/30\n",
      "\u001B[1m3238/3238\u001B[0m \u001B[32m━━━━━━━━━━━━━━━━━━━━\u001B[0m\u001B[37m\u001B[0m \u001B[1m6s\u001B[0m 2ms/step - accuracy: 0.7843 - loss: 0.4829\n",
      "Epoch 23/30\n",
      "\u001B[1m3238/3238\u001B[0m \u001B[32m━━━━━━━━━━━━━━━━━━━━\u001B[0m\u001B[37m\u001B[0m \u001B[1m7s\u001B[0m 2ms/step - accuracy: 0.7848 - loss: 0.4809\n",
      "Epoch 24/30\n",
      "\u001B[1m3238/3238\u001B[0m \u001B[32m━━━━━━━━━━━━━━━━━━━━\u001B[0m\u001B[37m\u001B[0m \u001B[1m8s\u001B[0m 2ms/step - accuracy: 0.7847 - loss: 0.4828\n",
      "Epoch 25/30\n",
      "\u001B[1m3238/3238\u001B[0m \u001B[32m━━━━━━━━━━━━━━━━━━━━\u001B[0m\u001B[37m\u001B[0m \u001B[1m9s\u001B[0m 3ms/step - accuracy: 0.7846 - loss: 0.4817\n",
      "Epoch 26/30\n",
      "\u001B[1m3238/3238\u001B[0m \u001B[32m━━━━━━━━━━━━━━━━━━━━\u001B[0m\u001B[37m\u001B[0m \u001B[1m8s\u001B[0m 2ms/step - accuracy: 0.7845 - loss: 0.4813\n",
      "Epoch 27/30\n",
      "\u001B[1m3238/3238\u001B[0m \u001B[32m━━━━━━━━━━━━━━━━━━━━\u001B[0m\u001B[37m\u001B[0m \u001B[1m7s\u001B[0m 2ms/step - accuracy: 0.7829 - loss: 0.4845\n",
      "Epoch 28/30\n",
      "\u001B[1m3238/3238\u001B[0m \u001B[32m━━━━━━━━━━━━━━━━━━━━\u001B[0m\u001B[37m\u001B[0m \u001B[1m7s\u001B[0m 2ms/step - accuracy: 0.7851 - loss: 0.4802\n",
      "Epoch 29/30\n",
      "\u001B[1m3238/3238\u001B[0m \u001B[32m━━━━━━━━━━━━━━━━━━━━\u001B[0m\u001B[37m\u001B[0m \u001B[1m7s\u001B[0m 2ms/step - accuracy: 0.7871 - loss: 0.4777\n",
      "Epoch 30/30\n",
      "\u001B[1m3238/3238\u001B[0m \u001B[32m━━━━━━━━━━━━━━━━━━━━\u001B[0m\u001B[37m\u001B[0m \u001B[1m6s\u001B[0m 2ms/step - accuracy: 0.7856 - loss: 0.4802\n",
      "\u001B[1m810/810\u001B[0m \u001B[32m━━━━━━━━━━━━━━━━━━━━\u001B[0m\u001B[37m\u001B[0m \u001B[1m2s\u001B[0m 2ms/step - accuracy: 0.7890 - loss: 0.4784\n",
      "Test accuracy:  0.7876645922660828\n"
     ]
    }
   ],
   "execution_count": 6
  },
  {
   "metadata": {
    "ExecuteTime": {
     "end_time": "2024-12-02T07:50:30.571553Z",
     "start_time": "2024-12-02T07:50:28.300922Z"
    }
   },
   "cell_type": "code",
   "source": [
    "from sklearn.metrics import precision_score, f1_score\n",
    "\n",
    "# Predict and calculate precision and F1 score\n",
    "test_predictions = model.predict(test)\n",
    "test_predictions = np.argmax(test_predictions, axis=1)\n",
    "test_true = np.argmax(test_response, axis=1)\n",
    "\n",
    "precision = precision_score(test_true, test_predictions, average='weighted')\n",
    "f1 = f1_score(test_true, test_predictions, average='weighted')\n",
    "\n",
    "print(\"Precision: \", precision)\n",
    "print(\"F1 Score: \", f1)\n",
    "\n",
    "\n"
   ],
   "id": "4e16ab36e83d4f70",
   "outputs": [
    {
     "name": "stdout",
     "output_type": "stream",
     "text": [
      "\u001B[1m810/810\u001B[0m \u001B[32m━━━━━━━━━━━━━━━━━━━━\u001B[0m\u001B[37m\u001B[0m \u001B[1m1s\u001B[0m 2ms/step\n",
      "Precision:  0.7871559163485229\n",
      "F1 Score:  0.7872578838714492\n"
     ]
    }
   ],
   "execution_count": 7
  },
  {
   "metadata": {
    "ExecuteTime": {
     "end_time": "2024-12-02T07:58:46.082830Z",
     "start_time": "2024-12-02T07:58:45.608817Z"
    }
   },
   "cell_type": "code",
   "source": [
    "import matplotlib.pyplot as plt\n",
    "# Plot training & validation accuracy values\n",
    "plt.figure(figsize=(12, 4))\n",
    "plt.subplot(1, 2, 1)\n",
    "plt.plot(history.history['accuracy'])\n",
    "plt.title('Model accuracy')\n",
    "plt.ylabel('Accuracy')\n",
    "plt.xlabel('Epoch')\n",
    "plt.legend(['Train', 'Validation'], loc='upper left')\n",
    "\n",
    "# Plot training & validation loss values\n",
    "plt.subplot(1, 2, 2)\n",
    "plt.plot(history.history['loss'])\n",
    "plt.title('Model loss')\n",
    "plt.ylabel('Loss')\n",
    "plt.xlabel('Epoch')\n",
    "plt.legend(['Train', 'Validation'], loc='upper left')"
   ],
   "id": "f19bcc87ded38dd3",
   "outputs": [
    {
     "data": {
      "text/plain": [
       "<matplotlib.legend.Legend at 0x14bc07ccd60>"
      ]
     },
     "execution_count": 12,
     "metadata": {},
     "output_type": "execute_result"
    },
    {
     "data": {
      "text/plain": [
       "<Figure size 1200x400 with 2 Axes>"
      ],
      "image/png": "[encoded data removed]"
     },
     "metadata": {},
     "output_type": "display_data"
    }
   ],
   "execution_count": 12
  },
  {
   "metadata": {},
   "cell_type": "code",
   "source": "",
   "id": "cae62e34a1f76903",
   "outputs": [],
   "execution_count": null
  }
 ],
 "metadata": {
  "kernelspec": {
   "display_name": "Python 3",
   "language": "python",
   "name": "python3"
  },
  "language_info": {
   "codemirror_mode": {
    "name": "ipython",
    "version": 2
   },
   "file_extension": ".py",
   "mimetype": "text/x-python",
   "name": "python",
   "nbconvert_exporter": "python",
   "pygments_lexer": "ipython2",
   "version": "2.7.6"
  }
 },
 "nbformat": 4,
 "nbformat_minor": 5
}
