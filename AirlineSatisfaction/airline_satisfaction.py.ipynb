{
 "cells": [
  {
   "cell_type": "code",
   "id": "initial_id",
   "metadata": {
    "collapsed": true,
    "ExecuteTime": {
     "end_time": "2024-11-22T10:47:08.862778Z",
     "start_time": "2024-11-22T10:47:08.835795Z"
    }
   },
   "source": [
    "import numpy as np\n",
    "import pandas as pd\n",
    "from tensorflow.keras.models import Sequential\n",
    "from tensorflow.keras.layers import Dense\n",
    "from keras.utils import to_categorical\n",
    "from sklearn.preprocessing import LabelEncoder\n",
    "from tensorflow.keras.optimizers import Adam\n",
    "from tensorflow.keras.callbacks import EarlyStopping"
   ],
   "outputs": [],
   "execution_count": 40
  },
  {
   "metadata": {
    "ExecuteTime": {
     "end_time": "2024-11-22T07:37:44.830633Z",
     "start_time": "2024-11-22T07:37:44.829632Z"
    }
   },
   "cell_type": "code",
   "source": [
    "# This script downloads the dataset from Kaggle and unzips it\n",
    "import os\n",
    "import zipfile\n",
    "from kaggle.api.kaggle_api_extended import KaggleApi\n",
    "\n",
    "# Initialize Kaggle API\n",
    "api = KaggleApi()\n",
    "api.authenticate()\n",
    "\n",
    "# Download the dataset\n",
    "dataset = 'teejmahal20/airline-passenger-satisfaction'\n",
    "api.dataset_download_files(dataset, path='.', unzip=True)\n",
    "\n"
   ],
   "id": "de752c85141f0beb",
   "outputs": [],
   "execution_count": null
  },
  {
   "metadata": {
    "ExecuteTime": {
     "end_time": "2024-11-22T10:18:05.867874Z",
     "start_time": "2024-11-22T10:18:05.494278Z"
    }
   },
   "cell_type": "code",
   "source": [
    "# load training set and test set\n",
    "train = pd.read_csv('train.csv', usecols=['Gender', 'Customer Type', 'Age', 'Type of Travel', 'Class', 'Flight Distance', 'Departure Delay in Minutes', 'Arrival Delay in Minutes', 'satisfaction'])\n",
    "\n",
    "test = pd.read_csv('test.csv', usecols=['Gender', 'Customer Type', 'Age', 'Type of Travel', 'Class', 'Flight Distance', \n",
    " 'Departure Delay in Minutes', 'Arrival Delay in Minutes', 'satisfaction'])\n"
   ],
   "id": "14e851df75896287",
   "outputs": [],
   "execution_count": 28
  },
  {
   "metadata": {
    "ExecuteTime": {
     "end_time": "2024-11-22T10:18:08.255851Z",
     "start_time": "2024-11-22T10:18:08.038861Z"
    }
   },
   "cell_type": "code",
   "source": [
    "# Preprocess the data\n",
    "for column in train.select_dtypes(include=[\"object\"]).columns:\n",
    "    train[column] = LabelEncoder().fit_transform(train[column])\n",
    "\n",
    "train.dropna(inplace=True)\n",
    "train.head()\n",
    "\n",
    "for column in test.select_dtypes(include=[\"object\"]).columns:\n",
    "    test[column] = LabelEncoder().fit_transform(test[column])\n",
    "\n",
    "train_response = train['satisfaction']\n",
    "train = train.drop(columns=['satisfaction'])\n",
    "\n",
    "test.dropna(inplace=True)\n",
    "test_response = test['satisfaction']\n",
    "test = test.drop(columns=['satisfaction'])\n"
   ],
   "id": "f470786f282d4adf",
   "outputs": [],
   "execution_count": 29
  },
  {
   "metadata": {
    "ExecuteTime": {
     "end_time": "2024-11-22T10:53:04.199983Z",
     "start_time": "2024-11-22T10:50:54.162024Z"
    }
   },
   "cell_type": "code",
   "source": [
    "\n",
    "# Set the learning rate\n",
    "learning_rate = 3e-3\n",
    "optimizer = Adam(learning_rate=learning_rate)\n",
    "\n",
    "model = Sequential()\n",
    "model.add(Dense(8, activation='relu'))\n",
    "model.add(Dense(8, activation='relu'))\n",
    "model.add(Dense(2, activation='softmax'))\n",
    "model.compile(loss='mean_squared_error', optimizer='adam', metrics=['accuracy'])\n",
    "\n",
    "\n",
    "# Define early stopping callback\n",
    "early_stopping = EarlyStopping(monitor='loss', patience=5, restore_best_weights=True)\n",
    "\n",
    "\n",
    "model.fit(train, train_response, epochs=30, callbacks=[early_stopping])\n",
    "\n",
    "results = model.evaluate(test, test_response)\n",
    "print(\"Test accuracy: \", results[1])"
   ],
   "id": "877e5a8e12255929",
   "outputs": [
    {
     "name": "stdout",
     "output_type": "stream",
     "text": [
      "Epoch 1/30\n",
      "\u001B[1m3238/3238\u001B[0m \u001B[32m━━━━━━━━━━━━━━━━━━━━\u001B[0m\u001B[37m\u001B[0m \u001B[1m9s\u001B[0m 2ms/step - accuracy: 0.5198 - loss: 0.4963\n",
      "Epoch 2/30\n",
      "\u001B[1m3238/3238\u001B[0m \u001B[32m━━━━━━━━━━━━━━━━━━━━\u001B[0m\u001B[37m\u001B[0m \u001B[1m9s\u001B[0m 3ms/step - accuracy: 0.4961 - loss: 0.4975\n",
      "Epoch 3/30\n",
      "\u001B[1m3238/3238\u001B[0m \u001B[32m━━━━━━━━━━━━━━━━━━━━\u001B[0m\u001B[37m\u001B[0m \u001B[1m8s\u001B[0m 3ms/step - accuracy: 0.5277 - loss: 0.4576\n",
      "Epoch 4/30\n",
      "\u001B[1m3238/3238\u001B[0m \u001B[32m━━━━━━━━━━━━━━━━━━━━\u001B[0m\u001B[37m\u001B[0m \u001B[1m9s\u001B[0m 3ms/step - accuracy: 0.5042 - loss: 0.2505\n",
      "Epoch 5/30\n",
      "\u001B[1m3238/3238\u001B[0m \u001B[32m━━━━━━━━━━━━━━━━━━━━\u001B[0m\u001B[37m\u001B[0m \u001B[1m10s\u001B[0m 3ms/step - accuracy: 0.4885 - loss: 0.2502\n",
      "Epoch 6/30\n",
      "\u001B[1m3238/3238\u001B[0m \u001B[32m━━━━━━━━━━━━━━━━━━━━\u001B[0m\u001B[37m\u001B[0m \u001B[1m9s\u001B[0m 3ms/step - accuracy: 0.4937 - loss: 0.2501\n",
      "Epoch 7/30\n",
      "\u001B[1m3238/3238\u001B[0m \u001B[32m━━━━━━━━━━━━━━━━━━━━\u001B[0m\u001B[37m\u001B[0m \u001B[1m8s\u001B[0m 2ms/step - accuracy: 0.4892 - loss: 0.2501\n",
      "Epoch 8/30\n",
      "\u001B[1m3238/3238\u001B[0m \u001B[32m━━━━━━━━━━━━━━━━━━━━\u001B[0m\u001B[37m\u001B[0m \u001B[1m7s\u001B[0m 2ms/step - accuracy: 0.4775 - loss: 0.2501\n",
      "Epoch 9/30\n",
      "\u001B[1m3238/3238\u001B[0m \u001B[32m━━━━━━━━━━━━━━━━━━━━\u001B[0m\u001B[37m\u001B[0m \u001B[1m7s\u001B[0m 2ms/step - accuracy: 0.4962 - loss: 0.2500\n",
      "Epoch 10/30\n",
      "\u001B[1m3238/3238\u001B[0m \u001B[32m━━━━━━━━━━━━━━━━━━━━\u001B[0m\u001B[37m\u001B[0m \u001B[1m7s\u001B[0m 2ms/step - accuracy: 0.5050 - loss: 0.2500\n",
      "Epoch 11/30\n",
      "\u001B[1m3238/3238\u001B[0m \u001B[32m━━━━━━━━━━━━━━━━━━━━\u001B[0m\u001B[37m\u001B[0m \u001B[1m7s\u001B[0m 2ms/step - accuracy: 0.5074 - loss: 0.2500\n",
      "Epoch 12/30\n",
      "\u001B[1m3238/3238\u001B[0m \u001B[32m━━━━━━━━━━━━━━━━━━━━\u001B[0m\u001B[37m\u001B[0m \u001B[1m7s\u001B[0m 2ms/step - accuracy: 0.5027 - loss: 0.2500\n",
      "Epoch 13/30\n",
      "\u001B[1m3238/3238\u001B[0m \u001B[32m━━━━━━━━━━━━━━━━━━━━\u001B[0m\u001B[37m\u001B[0m \u001B[1m8s\u001B[0m 2ms/step - accuracy: 0.5133 - loss: 0.2500\n",
      "Epoch 14/30\n",
      "\u001B[1m3238/3238\u001B[0m \u001B[32m━━━━━━━━━━━━━━━━━━━━\u001B[0m\u001B[37m\u001B[0m \u001B[1m7s\u001B[0m 2ms/step - accuracy: 0.5598 - loss: 0.2500\n",
      "Epoch 15/30\n",
      "\u001B[1m3238/3238\u001B[0m \u001B[32m━━━━━━━━━━━━━━━━━━━━\u001B[0m\u001B[37m\u001B[0m \u001B[1m7s\u001B[0m 2ms/step - accuracy: 0.5035 - loss: 0.2500\n",
      "Epoch 16/30\n",
      "\u001B[1m3238/3238\u001B[0m \u001B[32m━━━━━━━━━━━━━━━━━━━━\u001B[0m\u001B[37m\u001B[0m \u001B[1m7s\u001B[0m 2ms/step - accuracy: 0.5006 - loss: 0.2500\n",
      "\u001B[1m810/810\u001B[0m \u001B[32m━━━━━━━━━━━━━━━━━━━━\u001B[0m\u001B[37m\u001B[0m \u001B[1m2s\u001B[0m 2ms/step - accuracy: 0.5586 - loss: 0.2500\n",
      "Test accuracy:  0.5606920719146729\n"
     ]
    }
   ],
   "execution_count": 42
  },
  {
   "metadata": {
    "ExecuteTime": {
     "end_time": "2024-11-22T10:31:20.842632Z",
     "start_time": "2024-11-22T10:31:19.368502Z"
    }
   },
   "cell_type": "code",
   "source": "\n",
   "id": "4e16ab36e83d4f70",
   "outputs": [
    {
     "name": "stdout",
     "output_type": "stream",
     "text": [
      "\u001B[1m810/810\u001B[0m \u001B[32m━━━━━━━━━━━━━━━━━━━━\u001B[0m\u001B[37m\u001B[0m \u001B[1m1s\u001B[0m 2ms/step - loss: 0.5000\n",
      "Test accuracy:  0.5\n"
     ]
    }
   ],
   "execution_count": 36
  },
  {
   "metadata": {},
   "cell_type": "code",
   "outputs": [],
   "execution_count": null,
   "source": "",
   "id": "f19bcc87ded38dd3"
  }
 ],
 "metadata": {
  "kernelspec": {
   "display_name": "Python 3",
   "language": "python",
   "name": "python3"
  },
  "language_info": {
   "codemirror_mode": {
    "name": "ipython",
    "version": 2
   },
   "file_extension": ".py",
   "mimetype": "text/x-python",
   "name": "python",
   "nbconvert_exporter": "python",
   "pygments_lexer": "ipython2",
   "version": "2.7.6"
  }
 },
 "nbformat": 4,
 "nbformat_minor": 5
}
